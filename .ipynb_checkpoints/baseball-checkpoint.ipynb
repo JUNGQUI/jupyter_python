{
 "cells": [
  {
   "cell_type": "code",
   "execution_count": null,
   "metadata": {},
   "outputs": [],
   "source": [
    "import random\n",
    "\n",
    "numbers = random.sample([0, 1, 2, 3, 4, 5, 6, 7, 8, 9], 3) \n",
    "# random module 내의 sample 함수는 자동으로 unique 한 값을 가져온다.\n",
    "# random.sample(LIST, 뽑아 낼 parameter 개수)\n",
    "print(\"0과 9 사이의 서로 다른 세 숫자를 랜덤한 순서로 뽑았습니다.\")\n",
    "\n",
    "flag = True # 정답 맞추기 전까지 돌리기 위한 변수, 맞추면 False 로 만들어서 게임을 종료 시킨다.\n",
    "index = 0 # 몇 번째 try 인지 확인하기 위한 parameter, 외부에서 선언해야 내부에서 사용해서 반복 시 저장됨, 전역변수\n",
    "\n",
    "while flag:\n",
    "    print(\"세 수를 하나씩 차례대로 입력하세요.\")\n",
    "    index += 1 # 도전 시 마다 1씩 증가\n",
    "    s=0 # 성공한 개수\n",
    "    b=0 # 포함되어 있는 개수\n",
    "    i=1 # 3번 반복해서 받기 위한 인자, for 문 사용 시 필요 없어짐\n",
    "    guess=[] # 순수하게 중복 사용인지 확인하기 위한 list\n",
    "    \n",
    "    while i <= 3: # 3번 반복한다.\n",
    "        guess_number = int(input(f\"{i}번재 수를 입력하세요: \"))\n",
    "        if guess_number in guess:\n",
    "            print(\"중복되는 수 입니다. 다시 입력해주세요\")\n",
    "            continue\n",
    "        elif guess_number > 9:\n",
    "            print(\"범위를 벗어나는 수입니다. 다시 입력해주세요\")\n",
    "            continue\n",
    "        else:\n",
    "            guess.append(guess_number)\n",
    "            \n",
    "        # 이미 numbers 는 지정되어 있고, 반복 시 자릿수가 고정이기 때문에 받아들인 즉시 비교 가능\n",
    "        if numbers[i-1] == guess_number:\n",
    "            # 자릿수 (coding 에서 시작하는 배열의 index 는 0부터 시작) 에 있는 값이 받은 값과 동일한가? s증가\n",
    "            s += 1\n",
    "        elif guess_number in numbers:\n",
    "            # 맞추진 못했지만 list 내의 값들인 것은 맞는가?\n",
    "            b += 1\n",
    "            \n",
    "        i = i + 1 # 입력받은 수 증가, 내부 while 제어용, 마찬가지로 for문 사용시 필요 없어진다.\n",
    "        \n",
    "    # 입력 받은 값들의 결과 표시\n",
    "    print(f\"{s}S {b}B\")\n",
    "    \n",
    "    if s == 3:\n",
    "        # s 가 3개라면 3개 모두 맞췄기 때문에 try 횟수 출력, 그리고 전체 while 제어용 flag 를 False 로 꺾어서 while 종료\n",
    "        print(f\"축하합니다. {index}번만에 세 숫자의 값과 위치를 모두 맞추셨습니다.\")\n",
    "        flag = False\n",
    "    "
   ]
  }
 ],
 "metadata": {
  "kernelspec": {
   "display_name": "Python 3",
   "language": "python",
   "name": "python3"
  },
  "language_info": {
   "codemirror_mode": {
    "name": "ipython",
    "version": 3
   },
   "file_extension": ".py",
   "mimetype": "text/x-python",
   "name": "python",
   "nbconvert_exporter": "python",
   "pygments_lexer": "ipython3",
   "version": "3.7.5"
  }
 },
 "nbformat": 4,
 "nbformat_minor": 2
}
